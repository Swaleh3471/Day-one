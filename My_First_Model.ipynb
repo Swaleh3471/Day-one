{
  "nbformat": 4,
  "nbformat_minor": 0,
  "metadata": {
    "colab": {
      "provenance": [],
      "authorship_tag": "ABX9TyOX78R4JAcVIQUS+dVcqSNI",
      "include_colab_link": true
    },
    "kernelspec": {
      "name": "python3",
      "display_name": "Python 3"
    },
    "language_info": {
      "name": "python"
    }
  },
  "cells": [
    {
      "cell_type": "markdown",
      "metadata": {
        "id": "view-in-github",
        "colab_type": "text"
      },
      "source": [
        "<a href=\"https://colab.research.google.com/github/Swaleh3471/Day-one/blob/main/My_First_Model.ipynb\" target=\"_parent\"><img src=\"https://colab.research.google.com/assets/colab-badge.svg\" alt=\"Open In Colab\"/></a>"
      ]
    },
    {
      "cell_type": "code",
      "execution_count": 2,
      "metadata": {
        "id": "XZ8qgExJ545J"
      },
      "outputs": [],
      "source": [
        "# Import dependencies and tell tf to only dispaly errors\n",
        "import tensorflow as tf\n",
        "tf.compat.v1.logging.set_verbosity(tf.compat.v1.logging.ERROR)\n",
        "import numpy as np\n"
      ]
    },
    {
      "cell_type": "code",
      "source": [
        "#Set up training data\n",
        "celcius_q = np.array([-40, -10, 0, 8, 15, 22, 38], dtype=float)\n",
        "fahrenheit_a = np.array([-40, 14, 32, 46, 59, 72, 100], dtype=float)\n",
        "\n",
        "for i, c in enumerate(celcius_q):\n",
        "    print(\"{} degrees Celcius = {} degrees Fahrenheit\".format(c, fahrenheit_a[i]))"
      ],
      "metadata": {
        "colab": {
          "base_uri": "https://localhost:8080/"
        },
        "id": "AoIxyhl48Xx1",
        "outputId": "e54f55e5-f7b9-46e4-89f0-d3e9e1ef4b4d"
      },
      "execution_count": 3,
      "outputs": [
        {
          "output_type": "stream",
          "name": "stdout",
          "text": [
            "-40.0 degrees Celcius = -40.0 degrees Fahrenheit\n",
            "-10.0 degrees Celcius = 14.0 degrees Fahrenheit\n",
            "0.0 degrees Celcius = 32.0 degrees Fahrenheit\n",
            "8.0 degrees Celcius = 46.0 degrees Fahrenheit\n",
            "15.0 degrees Celcius = 59.0 degrees Fahrenheit\n",
            "22.0 degrees Celcius = 72.0 degrees Fahrenheit\n",
            "38.0 degrees Celcius = 100.0 degrees Fahrenheit\n"
          ]
        }
      ]
    },
    {
      "cell_type": "code",
      "source": [
        "#  build a layer\n",
        "\n",
        "l0 = tf.keras.layers.Dense(units=1, input_shape=[1])\n"
      ],
      "metadata": {
        "id": "uFrQq7hK9PHw"
      },
      "execution_count": 5,
      "outputs": []
    },
    {
      "cell_type": "code",
      "source": [
        "#  assemble layers into the model\n",
        "\n",
        "model = tf.keras.Sequential([l0])\n"
      ],
      "metadata": {
        "id": "IUSiO2a69jCS"
      },
      "execution_count": 6,
      "outputs": []
    },
    {
      "cell_type": "code",
      "source": [
        "# compile the model\n",
        "\n",
        "model.compile(loss='mean_squared_error',\n",
        "              optimizer=tf.keras.optimizers.Adam(0.1))\n"
      ],
      "metadata": {
        "id": "2pIYqUYK_zad"
      },
      "execution_count": 10,
      "outputs": []
    },
    {
      "cell_type": "code",
      "source": [
        "# train the model by calling fit method\n",
        "\n",
        "history = model.fit(celcius_q, fahrenheit_a, epochs=500, verbose=False)\n",
        "print(\"Finished training the model\")\n"
      ],
      "metadata": {
        "colab": {
          "base_uri": "https://localhost:8080/"
        },
        "id": "eP95x_C9BBEP",
        "outputId": "16b7384b-1975-467f-956f-64774f8aa7c1"
      },
      "execution_count": 12,
      "outputs": [
        {
          "output_type": "stream",
          "name": "stdout",
          "text": [
            "Finished training the model\n"
          ]
        }
      ]
    },
    {
      "cell_type": "code",
      "source": [
        "#  display training stats using matplotlib\n",
        "\n",
        "import matplotlib.pyplot as plt\n",
        "plt.xlabel('Epoch Number')\n",
        "plt.ylabel(\"Loss Magnitude\")\n",
        "plt.plot(history.history['loss'])\n"
      ],
      "metadata": {
        "colab": {
          "base_uri": "https://localhost:8080/",
          "height": 466
        },
        "id": "ZAZMRCmkCd0-",
        "outputId": "223c1fb2-461a-4680-8ad1-a1c0f80c1210"
      },
      "execution_count": 13,
      "outputs": [
        {
          "output_type": "execute_result",
          "data": {
            "text/plain": [
              "[<matplotlib.lines.Line2D at 0x7937bcdd4c10>]"
            ]
          },
          "metadata": {},
          "execution_count": 13
        },
        {
          "output_type": "display_data",
          "data": {
            "text/plain": [
              "<Figure size 640x480 with 1 Axes>"
            ],
            "image/png": "[encoded data removed]"
          },
          "metadata": {}
        }
      ]
    },
    {
      "cell_type": "code",
      "source": [
        "# use the model to predict values\n",
        "\n",
        "print(model.predict(np.array([100.0])))\n"
      ],
      "metadata": {
        "colab": {
          "base_uri": "https://localhost:8080/"
        },
        "id": "o9BxeNNND9BE",
        "outputId": "44b0a2fa-17f9-4253-9a1b-e1b5d7d917fa"
      },
      "execution_count": 15,
      "outputs": [
        {
          "output_type": "stream",
          "name": "stdout",
          "text": [
            "\u001b[1m1/1\u001b[0m \u001b[32m━━━━━━━━━━━━━━━━━━━━\u001b[0m\u001b[37m\u001b[0m \u001b[1m0s\u001b[0m 44ms/step\n",
            "[[211.74011]]\n"
          ]
        }
      ]
    },
    {
      "cell_type": "code",
      "source": [
        "# print the internal variable of the dense layer\n",
        "\n",
        "print(\"These are the layer variables: {}\".format(l0.get_weights()))\n"
      ],
      "metadata": {
        "colab": {
          "base_uri": "https://localhost:8080/"
        },
        "id": "C7CrozpJGZ6s",
        "outputId": "56efb05d-842c-4822-b8a1-20b7d96ceb33"
      },
      "execution_count": 17,
      "outputs": [
        {
          "output_type": "stream",
          "name": "stdout",
          "text": [
            "These are the layer variables: [array([[1.7984324]], dtype=float32), array([31.89688], dtype=float32)]\n"
          ]
        }
      ]
    },
    {
      "cell_type": "code",
      "source": [
        "# prompt: create three dense layers with different units\n",
        "\n",
        "l0 = tf.keras.layers.Dense(units=4, input_shape=[1])\n",
        "l1 = tf.keras.layers.Dense(units=4)\n",
        "l2 = tf.keras.layers.Dense(units=1)\n"
      ],
      "metadata": {
        "colab": {
          "base_uri": "https://localhost:8080/"
        },
        "id": "DMVnqng6KDLi",
        "outputId": "3bb2e688-d8e0-4241-986f-054467047f6a"
      },
      "execution_count": 18,
      "outputs": [
        {
          "output_type": "stream",
          "name": "stderr",
          "text": [
            "/usr/local/lib/python3.10/dist-packages/keras/src/layers/core/dense.py:87: UserWarning: Do not pass an `input_shape`/`input_dim` argument to a layer. When using Sequential models, prefer using an `Input(shape)` object as the first layer in the model instead.\n",
            "  super().__init__(activity_regularizer=activity_regularizer, **kwargs)\n"
          ]
        }
      ]
    },
    {
      "cell_type": "code",
      "source": [
        "#  assemble layers,compile the model,train the model\n",
        "\n",
        "model = tf.keras.Sequential([l0, l1, l2])\n",
        "model.compile(loss='mean_squared_error', optimizer=tf.keras.optimizers.Adam(0.1))\n",
        "model.fit(celcius_q, fahrenheit_a, epochs=500, verbose=False)\n",
        "print(\"Finished training the model\")\n",
        "print(model.predict(np.array([100.0])))\n",
        "print(\"These are the layer variables: {}\".format(l0.get_weights()))\n",
        "print(\"These are the layer variables: {}\".format(l1.get_weights()))\n",
        "print(\"These are the layer variables: {}\".format(l2.get_weights()))"
      ],
      "metadata": {
        "colab": {
          "base_uri": "https://localhost:8080/"
        },
        "id": "oYAIKuJqKhWz",
        "outputId": "66882d77-ff64-49af-ece7-8cc4f208baba"
      },
      "execution_count": 21,
      "outputs": [
        {
          "output_type": "stream",
          "name": "stdout",
          "text": [
            "Finished training the model\n",
            "\u001b[1m1/1\u001b[0m \u001b[32m━━━━━━━━━━━━━━━━━━━━\u001b[0m\u001b[37m\u001b[0m \u001b[1m0s\u001b[0m 75ms/step\n",
            "[[211.74742]]\n",
            "These are the layer variables: [array([[ 0.21157956,  0.3565672 , -0.39478552,  0.27013358]],\n",
            "      dtype=float32), array([ 0.6172637,  3.7758424, -3.7077594,  3.5403843], dtype=float32)]\n",
            "These are the layer variables: [array([[-0.7234672 ,  0.6712267 , -0.2627707 , -0.33096382],\n",
            "       [-0.939212  ,  0.1422059 ,  0.4650567 ,  0.28460887],\n",
            "       [ 0.68041706,  0.23191625, -0.8099486 , -0.22135535],\n",
            "       [-0.41973937, -0.3127289 ,  0.48453346,  0.14097796]],\n",
            "      dtype=float32), array([-4.0283403, -1.4987557,  4.005033 , -2.307628 ], dtype=float32)]\n",
            "These are the layer variables: [array([[-1.3041918 ],\n",
            "       [-0.05642504],\n",
            "       [ 1.1630597 ],\n",
            "       [ 0.07620492]], dtype=float32), array([4.1303606], dtype=float32)]\n"
          ]
        }
      ]
    }
  ]
}